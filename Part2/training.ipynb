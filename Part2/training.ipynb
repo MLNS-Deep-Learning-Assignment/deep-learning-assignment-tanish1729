{
 "cells": [
  {
   "cell_type": "markdown",
   "id": "9ddd3268",
   "metadata": {},
   "source": [
    "# Part 2 : Improved Model"
   ]
  },
  {
   "cell_type": "markdown",
   "id": "772098c8",
   "metadata": {},
   "source": [
    "## Setup"
   ]
  },
  {
   "cell_type": "code",
   "execution_count": 2,
   "id": "d391f0ca",
   "metadata": {},
   "outputs": [],
   "source": [
    "# Imports\n",
    "import torch\n",
    "import numpy as np\n",
    "from tqdm import tqdm\n",
    "import torch.nn as nn\n",
    "import torch.optim as optim\n",
    "from torchvision import models\n",
    "import matplotlib.pyplot as plt\n",
    "import torchvision.transforms as transforms\n",
    "from torch.utils.data import Dataset, DataLoader\n",
    "from sklearn.model_selection import train_test_split"
   ]
  },
  {
   "cell_type": "code",
   "execution_count": 3,
   "id": "1eb3b3ae-8f40-4afc-83c4-31e1d3af4669",
   "metadata": {},
   "outputs": [],
   "source": [
    "# Loading data\n",
    "data_files = [\"../data/data0.npy\", \"../data/data1.npy\", \"../data/data2.npy\"]\n",
    "label_files = [\"../data/lab0.npy\", \"../data/lab1.npy\", \"../data/lab2.npy\"]\n",
    "\n",
    "data = [np.load(file) for file in data_files]\n",
    "label = [np.load(file) for file in label_files]\n",
    "\n",
    "images = np.concatenate(data)\n",
    "labels = np.concatenate(label)"
   ]
  },
  {
   "cell_type": "code",
   "execution_count": 4,
   "id": "e9df289a",
   "metadata": {},
   "outputs": [],
   "source": [
    "# Data -> Dataloader\n",
    "class CustomDataset(Dataset):\n",
    "    def __init__(self, images, labels, transform=None):\n",
    "        self.images = images\n",
    "        self.labels = labels\n",
    "        self.transform = transform\n",
    "\n",
    "    def __len__(self):\n",
    "        return len(self.images)\n",
    "\n",
    "    def __getitem__(self, idx):\n",
    "        image = self.images[idx]\n",
    "        label = self.labels[idx]\n",
    "        \n",
    "        if self.transform:\n",
    "            image = self.transform(image)\n",
    "        \n",
    "        return image, torch.tensor(label, dtype=torch.float32)\n",
    "\n",
    "\n",
    "# Image Transform (for grayscale images)\n",
    "transform = transforms.Compose([\n",
    "    transforms.ToTensor(),\n",
    "    transforms.Lambda(lambda x: x.repeat(3, 1, 1)),\n",
    "    transforms.Normalize((0.5,), (0.5,))\n",
    "])\n",
    "\n",
    "train_images, test_images, train_labels, test_labels = train_test_split(images, labels, train_size=0.85, random_state=42)\n",
    "train_images, val_images, train_labels, val_labels = train_test_split(train_images, train_labels, train_size=0.85, random_state=42)\n",
    "batch_size = 1024\n",
    "train_dataset = CustomDataset(train_images, train_labels, transform=transform)\n",
    "train_dataloader = DataLoader(train_dataset, batch_size=batch_size, shuffle=True)\n",
    "val_dataset = CustomDataset(val_images, val_labels, transform=transform)\n",
    "val_dataloader = DataLoader(val_dataset, batch_size=batch_size, shuffle=False)\n",
    "test_dataset = CustomDataset(test_images, test_labels, transform=transform)\n",
    "test_dataloader = DataLoader(test_dataset, batch_size=batch_size, shuffle=False)"
   ]
  },
  {
   "cell_type": "code",
   "execution_count": 5,
   "id": "3b251dea",
   "metadata": {},
   "outputs": [],
   "source": [
    "# Setting up device\n",
    "device = torch.device(\"cuda\" if torch.cuda.is_available() else \"cpu\")"
   ]
  },
  {
   "cell_type": "code",
   "execution_count": 6,
   "id": "1441c4d5",
   "metadata": {},
   "outputs": [
    {
     "name": "stdout",
     "output_type": "stream",
     "text": [
      "Multiple GPUs found: 4\n"
     ]
    }
   ],
   "source": [
    "# Using pretrained resnet model\n",
    "model = models.resnet18(weights=models.ResNet18_Weights.DEFAULT)\n",
    "n_classes = 37 # all possible sums from 0 to 36\n",
    "# model.fc = nn.Linear(model.fc.in_features, 37)\n",
    "model.fc = nn.Sequential(\n",
    "            nn.Linear(model.fc.in_features, 256),\n",
    "            nn.ReLU(),\n",
    "            nn.Dropout(0.2),\n",
    "            nn.Linear(256, n_classes)\n",
    "        )\n",
    "model.to(device)\n",
    "\n",
    "# Run model parallely with multiple GPUs\n",
    "if torch.cuda.device_count() > 1:\n",
    "    print(f\"Multiple GPUs found: {torch.cuda.device_count()}\")\n",
    "    model = nn.DataParallel(model)"
   ]
  },
  {
   "cell_type": "code",
   "execution_count": 7,
   "id": "ef6dd34d",
   "metadata": {},
   "outputs": [],
   "source": [
    "criterion = nn.CrossEntropyLoss()\n",
    "optimizer = optim.Adam(model.parameters(), lr=0.001)"
   ]
  },
  {
   "cell_type": "markdown",
   "id": "fac810d0",
   "metadata": {},
   "source": [
    "## Training"
   ]
  },
  {
   "cell_type": "code",
   "execution_count": 8,
   "id": "a656f085",
   "metadata": {},
   "outputs": [],
   "source": [
    "def train():\n",
    "    model.train()\n",
    "    loss = 0.0\n",
    "    correct, total = 0, 0\n",
    "    for images, labels in train_dataloader:\n",
    "        images, labels = images.to(device), labels.to(device)\n",
    "        optimizer.zero_grad()\n",
    "        outputs = model(images)\n",
    "        loss = criterion(outputs, labels.long())\n",
    "        loss.backward()\n",
    "        optimizer.step()\n",
    "        loss += loss.item()\n",
    "        _, predictions = torch.max(outputs, 1)\n",
    "        correct += (predictions == labels).sum().item()\n",
    "        total += labels.size(0)\n",
    "    accuracy = 100 * correct / total\n",
    "    return loss, accuracy\n",
    "\n",
    "def validate():\n",
    "    model.eval()\n",
    "    loss = 0.0\n",
    "    correct, total = 0, 0\n",
    "    with torch.no_grad():\n",
    "        for images, labels in val_dataloader:\n",
    "            images, labels = images.to(device), labels.to(device)\n",
    "            outputs = model(images)\n",
    "            loss = criterion(outputs, labels.long())\n",
    "            loss += loss.item()\n",
    "            _, predictions = torch.max(outputs, 1)\n",
    "            correct += (predictions == labels).sum().item()\n",
    "            total += labels.size(0)\n",
    "    accuracy = 100 * correct / total\n",
    "    return loss, accuracy"
   ]
  },
  {
   "cell_type": "code",
   "execution_count": 9,
   "id": "71145c8b",
   "metadata": {},
   "outputs": [
    {
     "name": "stderr",
     "output_type": "stream",
     "text": [
      "Epochs:   2%|▏         | 1/50 [00:17<14:00, 17.16s/it]"
     ]
    },
    {
     "name": "stdout",
     "output_type": "stream",
     "text": [
      "Epoch [1/50]\n",
      "Train Loss: 5.2181, Train Accuracy: 9.86%\n",
      "Validation Loss: 5.1582, Validation Accuracy: 12.47%\n"
     ]
    },
    {
     "name": "stderr",
     "output_type": "stream",
     "text": [
      "Epochs:   4%|▍         | 2/50 [00:27<10:31, 13.16s/it]"
     ]
    },
    {
     "name": "stdout",
     "output_type": "stream",
     "text": [
      "Epoch [2/50]\n",
      "Train Loss: 4.1276, Train Accuracy: 18.81%\n",
      "Validation Loss: 4.8912, Validation Accuracy: 15.56%\n"
     ]
    },
    {
     "name": "stderr",
     "output_type": "stream",
     "text": [
      "Epochs:   6%|▌         | 3/50 [00:37<09:18, 11.88s/it]"
     ]
    },
    {
     "name": "stdout",
     "output_type": "stream",
     "text": [
      "Epoch [3/50]\n",
      "Train Loss: 3.7776, Train Accuracy: 25.26%\n",
      "Validation Loss: 3.8391, Validation Accuracy: 25.49%\n"
     ]
    },
    {
     "name": "stderr",
     "output_type": "stream",
     "text": [
      "Epochs:   8%|▊         | 4/50 [00:48<08:39, 11.30s/it]"
     ]
    },
    {
     "name": "stdout",
     "output_type": "stream",
     "text": [
      "Epoch [4/50]\n",
      "Train Loss: 3.5058, Train Accuracy: 32.88%\n",
      "Validation Loss: 3.3481, Validation Accuracy: 34.93%\n"
     ]
    },
    {
     "name": "stderr",
     "output_type": "stream",
     "text": [
      "Epochs:  10%|█         | 5/50 [00:58<08:14, 10.98s/it]"
     ]
    },
    {
     "name": "stdout",
     "output_type": "stream",
     "text": [
      "Epoch [5/50]\n",
      "Train Loss: 4.8894, Train Accuracy: 38.74%\n",
      "Validation Loss: 3.2215, Validation Accuracy: 35.37%\n"
     ]
    },
    {
     "name": "stderr",
     "output_type": "stream",
     "text": [
      "Epochs:  12%|█▏        | 6/50 [01:09<07:54, 10.78s/it]"
     ]
    },
    {
     "name": "stdout",
     "output_type": "stream",
     "text": [
      "Epoch [6/50]\n",
      "Train Loss: 3.7222, Train Accuracy: 44.33%\n",
      "Validation Loss: 2.7670, Validation Accuracy: 46.25%\n"
     ]
    },
    {
     "name": "stderr",
     "output_type": "stream",
     "text": [
      "Epochs:  14%|█▍        | 7/50 [01:19<07:38, 10.67s/it]"
     ]
    },
    {
     "name": "stdout",
     "output_type": "stream",
     "text": [
      "Epoch [7/50]\n",
      "Train Loss: 3.6784, Train Accuracy: 46.54%\n",
      "Validation Loss: 4.0662, Validation Accuracy: 30.85%\n"
     ]
    },
    {
     "name": "stderr",
     "output_type": "stream",
     "text": [
      "Epochs:  16%|█▌        | 8/50 [01:29<07:23, 10.57s/it]"
     ]
    },
    {
     "name": "stdout",
     "output_type": "stream",
     "text": [
      "Epoch [8/50]\n",
      "Train Loss: 2.5730, Train Accuracy: 48.63%\n",
      "Validation Loss: 3.3785, Validation Accuracy: 30.75%\n"
     ]
    },
    {
     "name": "stderr",
     "output_type": "stream",
     "text": [
      "Epochs:  18%|█▊        | 9/50 [01:40<07:14, 10.59s/it]"
     ]
    },
    {
     "name": "stdout",
     "output_type": "stream",
     "text": [
      "Epoch [9/50]\n",
      "Train Loss: 2.8614, Train Accuracy: 53.28%\n",
      "Validation Loss: 2.6045, Validation Accuracy: 44.31%\n"
     ]
    },
    {
     "name": "stderr",
     "output_type": "stream",
     "text": [
      "Epochs:  20%|██        | 10/50 [01:50<07:01, 10.53s/it]"
     ]
    },
    {
     "name": "stdout",
     "output_type": "stream",
     "text": [
      "Epoch [10/50]\n",
      "Train Loss: 2.4536, Train Accuracy: 57.25%\n",
      "Validation Loss: 2.6279, Validation Accuracy: 55.14%\n"
     ]
    },
    {
     "name": "stderr",
     "output_type": "stream",
     "text": [
      "Epochs:  22%|██▏       | 11/50 [02:01<06:47, 10.44s/it]"
     ]
    },
    {
     "name": "stdout",
     "output_type": "stream",
     "text": [
      "Epoch [11/50]\n",
      "Train Loss: 3.3105, Train Accuracy: 58.93%\n",
      "Validation Loss: 4.4035, Validation Accuracy: 16.44%\n"
     ]
    },
    {
     "name": "stderr",
     "output_type": "stream",
     "text": [
      "Epochs:  24%|██▍       | 12/50 [02:11<06:33, 10.35s/it]"
     ]
    },
    {
     "name": "stdout",
     "output_type": "stream",
     "text": [
      "Epoch [12/50]\n",
      "Train Loss: 4.3271, Train Accuracy: 57.17%\n",
      "Validation Loss: 2.0382, Validation Accuracy: 64.00%\n"
     ]
    },
    {
     "name": "stderr",
     "output_type": "stream",
     "text": [
      "Epochs:  26%|██▌       | 13/50 [02:21<06:23, 10.37s/it]"
     ]
    },
    {
     "name": "stdout",
     "output_type": "stream",
     "text": [
      "Epoch [13/50]\n",
      "Train Loss: 3.1704, Train Accuracy: 61.34%\n",
      "Validation Loss: 2.1866, Validation Accuracy: 60.08%\n"
     ]
    },
    {
     "name": "stderr",
     "output_type": "stream",
     "text": [
      "Epochs:  28%|██▊       | 14/50 [02:31<06:12, 10.33s/it]"
     ]
    },
    {
     "name": "stdout",
     "output_type": "stream",
     "text": [
      "Epoch [14/50]\n",
      "Train Loss: 1.9254, Train Accuracy: 68.08%\n",
      "Validation Loss: 1.8316, Validation Accuracy: 68.39%\n"
     ]
    },
    {
     "name": "stderr",
     "output_type": "stream",
     "text": [
      "Epochs:  30%|███       | 15/50 [02:42<06:01, 10.32s/it]"
     ]
    },
    {
     "name": "stdout",
     "output_type": "stream",
     "text": [
      "Epoch [15/50]\n",
      "Train Loss: 3.4197, Train Accuracy: 65.62%\n",
      "Validation Loss: 1.9864, Validation Accuracy: 66.93%\n"
     ]
    },
    {
     "name": "stderr",
     "output_type": "stream",
     "text": [
      "Epochs:  32%|███▏      | 16/50 [02:52<05:50, 10.32s/it]"
     ]
    },
    {
     "name": "stdout",
     "output_type": "stream",
     "text": [
      "Epoch [16/50]\n",
      "Train Loss: 4.7463, Train Accuracy: 58.21%\n",
      "Validation Loss: 3.3409, Validation Accuracy: 35.35%\n"
     ]
    },
    {
     "name": "stderr",
     "output_type": "stream",
     "text": [
      "Epochs:  34%|███▍      | 17/50 [03:03<05:42, 10.38s/it]"
     ]
    },
    {
     "name": "stdout",
     "output_type": "stream",
     "text": [
      "Epoch [17/50]\n",
      "Train Loss: 2.1058, Train Accuracy: 65.25%\n",
      "Validation Loss: 1.7986, Validation Accuracy: 67.61%\n"
     ]
    },
    {
     "name": "stderr",
     "output_type": "stream",
     "text": [
      "Epochs:  36%|███▌      | 18/50 [03:13<05:29, 10.31s/it]"
     ]
    },
    {
     "name": "stdout",
     "output_type": "stream",
     "text": [
      "Epoch [18/50]\n",
      "Train Loss: 1.8738, Train Accuracy: 71.17%\n",
      "Validation Loss: 1.6041, Validation Accuracy: 77.15%\n"
     ]
    },
    {
     "name": "stderr",
     "output_type": "stream",
     "text": [
      "Epochs:  38%|███▊      | 19/50 [03:23<05:17, 10.23s/it]"
     ]
    },
    {
     "name": "stdout",
     "output_type": "stream",
     "text": [
      "Epoch [19/50]\n",
      "Train Loss: 2.4842, Train Accuracy: 69.20%\n",
      "Validation Loss: 1.8632, Validation Accuracy: 73.99%\n"
     ]
    },
    {
     "name": "stderr",
     "output_type": "stream",
     "text": [
      "Epochs:  40%|████      | 20/50 [03:33<05:05, 10.20s/it]"
     ]
    },
    {
     "name": "stdout",
     "output_type": "stream",
     "text": [
      "Epoch [20/50]\n",
      "Train Loss: 2.9628, Train Accuracy: 74.92%\n",
      "Validation Loss: 1.7702, Validation Accuracy: 70.09%\n"
     ]
    },
    {
     "name": "stderr",
     "output_type": "stream",
     "text": [
      "Epochs:  42%|████▏     | 21/50 [03:43<04:56, 10.21s/it]"
     ]
    },
    {
     "name": "stdout",
     "output_type": "stream",
     "text": [
      "Epoch [21/50]\n",
      "Train Loss: 2.6219, Train Accuracy: 74.01%\n",
      "Validation Loss: 2.0175, Validation Accuracy: 68.31%\n"
     ]
    },
    {
     "name": "stderr",
     "output_type": "stream",
     "text": [
      "Epochs:  44%|████▍     | 22/50 [03:53<04:45, 10.18s/it]"
     ]
    },
    {
     "name": "stdout",
     "output_type": "stream",
     "text": [
      "Epoch [22/50]\n",
      "Train Loss: 3.4315, Train Accuracy: 76.29%\n",
      "Validation Loss: 3.9606, Validation Accuracy: 42.64%\n"
     ]
    },
    {
     "name": "stderr",
     "output_type": "stream",
     "text": [
      "Epochs:  46%|████▌     | 23/50 [04:03<04:35, 10.20s/it]"
     ]
    },
    {
     "name": "stdout",
     "output_type": "stream",
     "text": [
      "Epoch [23/50]\n",
      "Train Loss: 1.8377, Train Accuracy: 73.54%\n",
      "Validation Loss: 1.5902, Validation Accuracy: 80.10%\n"
     ]
    },
    {
     "name": "stderr",
     "output_type": "stream",
     "text": [
      "Epochs:  48%|████▊     | 24/50 [04:14<04:24, 10.18s/it]"
     ]
    },
    {
     "name": "stdout",
     "output_type": "stream",
     "text": [
      "Epoch [24/50]\n",
      "Train Loss: 3.4149, Train Accuracy: 70.49%\n",
      "Validation Loss: 6.0651, Validation Accuracy: 13.28%\n"
     ]
    },
    {
     "name": "stderr",
     "output_type": "stream",
     "text": [
      "Epochs:  50%|█████     | 25/50 [04:24<04:16, 10.26s/it]"
     ]
    },
    {
     "name": "stdout",
     "output_type": "stream",
     "text": [
      "Epoch [25/50]\n",
      "Train Loss: 2.4914, Train Accuracy: 56.78%\n",
      "Validation Loss: 2.1863, Validation Accuracy: 59.95%\n"
     ]
    },
    {
     "name": "stderr",
     "output_type": "stream",
     "text": [
      "Epochs:  52%|█████▏    | 26/50 [04:34<04:05, 10.24s/it]"
     ]
    },
    {
     "name": "stdout",
     "output_type": "stream",
     "text": [
      "Epoch [26/50]\n",
      "Train Loss: 3.0713, Train Accuracy: 78.89%\n",
      "Validation Loss: 1.9018, Validation Accuracy: 68.97%\n"
     ]
    },
    {
     "name": "stderr",
     "output_type": "stream",
     "text": [
      "Epochs:  54%|█████▍    | 27/50 [04:45<03:55, 10.24s/it]"
     ]
    },
    {
     "name": "stdout",
     "output_type": "stream",
     "text": [
      "Epoch [27/50]\n",
      "Train Loss: 2.3818, Train Accuracy: 77.41%\n",
      "Validation Loss: 1.3225, Validation Accuracy: 80.21%\n"
     ]
    },
    {
     "name": "stderr",
     "output_type": "stream",
     "text": [
      "Epochs:  56%|█████▌    | 28/50 [04:55<03:45, 10.25s/it]"
     ]
    },
    {
     "name": "stdout",
     "output_type": "stream",
     "text": [
      "Epoch [28/50]\n",
      "Train Loss: 1.6657, Train Accuracy: 83.49%\n",
      "Validation Loss: 1.2631, Validation Accuracy: 84.05%\n"
     ]
    },
    {
     "name": "stderr",
     "output_type": "stream",
     "text": [
      "Epochs:  58%|█████▊    | 29/50 [05:05<03:36, 10.30s/it]"
     ]
    },
    {
     "name": "stdout",
     "output_type": "stream",
     "text": [
      "Epoch [29/50]\n",
      "Train Loss: 1.6757, Train Accuracy: 85.45%\n",
      "Validation Loss: 1.1270, Validation Accuracy: 84.39%\n"
     ]
    },
    {
     "name": "stderr",
     "output_type": "stream",
     "text": [
      "Epochs:  60%|██████    | 30/50 [05:15<03:25, 10.30s/it]"
     ]
    },
    {
     "name": "stdout",
     "output_type": "stream",
     "text": [
      "Epoch [30/50]\n",
      "Train Loss: 2.5932, Train Accuracy: 84.49%\n",
      "Validation Loss: 1.8771, Validation Accuracy: 69.46%\n"
     ]
    },
    {
     "name": "stderr",
     "output_type": "stream",
     "text": [
      "Epochs:  62%|██████▏   | 31/50 [05:26<03:15, 10.28s/it]"
     ]
    },
    {
     "name": "stdout",
     "output_type": "stream",
     "text": [
      "Epoch [31/50]\n",
      "Train Loss: 1.6075, Train Accuracy: 78.53%\n",
      "Validation Loss: 1.6206, Validation Accuracy: 77.86%\n"
     ]
    },
    {
     "name": "stderr",
     "output_type": "stream",
     "text": [
      "Epochs:  64%|██████▍   | 32/50 [05:36<03:05, 10.29s/it]"
     ]
    },
    {
     "name": "stdout",
     "output_type": "stream",
     "text": [
      "Epoch [32/50]\n",
      "Train Loss: 1.8162, Train Accuracy: 72.30%\n",
      "Validation Loss: 1.5692, Validation Accuracy: 69.07%\n"
     ]
    },
    {
     "name": "stderr",
     "output_type": "stream",
     "text": [
      "Epochs:  66%|██████▌   | 33/50 [05:47<02:56, 10.37s/it]"
     ]
    },
    {
     "name": "stdout",
     "output_type": "stream",
     "text": [
      "Epoch [33/50]\n",
      "Train Loss: 1.3717, Train Accuracy: 82.89%\n",
      "Validation Loss: 1.2724, Validation Accuracy: 82.90%\n"
     ]
    },
    {
     "name": "stderr",
     "output_type": "stream",
     "text": [
      "Epochs:  68%|██████▊   | 34/50 [05:57<02:45, 10.37s/it]"
     ]
    },
    {
     "name": "stdout",
     "output_type": "stream",
     "text": [
      "Epoch [34/50]\n",
      "Train Loss: 1.5649, Train Accuracy: 86.25%\n",
      "Validation Loss: 1.6282, Validation Accuracy: 82.41%\n"
     ]
    },
    {
     "name": "stderr",
     "output_type": "stream",
     "text": [
      "Epochs:  70%|███████   | 35/50 [06:07<02:35, 10.36s/it]"
     ]
    },
    {
     "name": "stdout",
     "output_type": "stream",
     "text": [
      "Epoch [35/50]\n",
      "Train Loss: 1.6677, Train Accuracy: 88.68%\n",
      "Validation Loss: 1.3705, Validation Accuracy: 85.07%\n"
     ]
    },
    {
     "name": "stderr",
     "output_type": "stream",
     "text": [
      "Epochs:  72%|███████▏  | 36/50 [06:18<02:24, 10.35s/it]"
     ]
    },
    {
     "name": "stdout",
     "output_type": "stream",
     "text": [
      "Epoch [36/50]\n",
      "Train Loss: 1.8044, Train Accuracy: 87.28%\n",
      "Validation Loss: 1.0680, Validation Accuracy: 86.90%\n"
     ]
    },
    {
     "name": "stderr",
     "output_type": "stream",
     "text": [
      "Epochs:  74%|███████▍  | 37/50 [06:28<02:15, 10.41s/it]"
     ]
    },
    {
     "name": "stdout",
     "output_type": "stream",
     "text": [
      "Epoch [37/50]\n",
      "Train Loss: 1.4622, Train Accuracy: 84.67%\n",
      "Validation Loss: 1.8487, Validation Accuracy: 71.50%\n"
     ]
    },
    {
     "name": "stderr",
     "output_type": "stream",
     "text": [
      "Epochs:  76%|███████▌  | 38/50 [06:39<02:04, 10.40s/it]"
     ]
    },
    {
     "name": "stdout",
     "output_type": "stream",
     "text": [
      "Epoch [38/50]\n",
      "Train Loss: 1.8444, Train Accuracy: 87.39%\n",
      "Validation Loss: 1.3537, Validation Accuracy: 82.61%\n"
     ]
    },
    {
     "name": "stderr",
     "output_type": "stream",
     "text": [
      "Epochs:  78%|███████▊  | 39/50 [06:49<01:54, 10.40s/it]"
     ]
    },
    {
     "name": "stdout",
     "output_type": "stream",
     "text": [
      "Epoch [39/50]\n",
      "Train Loss: 1.8374, Train Accuracy: 89.27%\n",
      "Validation Loss: 1.2417, Validation Accuracy: 83.48%\n"
     ]
    },
    {
     "name": "stderr",
     "output_type": "stream",
     "text": [
      "Epochs:  80%|████████  | 40/50 [06:59<01:43, 10.39s/it]"
     ]
    },
    {
     "name": "stdout",
     "output_type": "stream",
     "text": [
      "Epoch [40/50]\n",
      "Train Loss: 0.6883, Train Accuracy: 91.80%\n",
      "Validation Loss: 1.6858, Validation Accuracy: 84.26%\n"
     ]
    },
    {
     "name": "stderr",
     "output_type": "stream",
     "text": [
      "Epochs:  82%|████████▏ | 41/50 [07:10<01:34, 10.46s/it]"
     ]
    },
    {
     "name": "stdout",
     "output_type": "stream",
     "text": [
      "Epoch [41/50]\n",
      "Train Loss: 2.6684, Train Accuracy: 93.00%\n",
      "Validation Loss: 1.1387, Validation Accuracy: 89.02%\n"
     ]
    },
    {
     "name": "stderr",
     "output_type": "stream",
     "text": [
      "Epochs:  84%|████████▍ | 42/50 [07:20<01:23, 10.41s/it]"
     ]
    },
    {
     "name": "stdout",
     "output_type": "stream",
     "text": [
      "Epoch [42/50]\n",
      "Train Loss: 1.5953, Train Accuracy: 91.45%\n",
      "Validation Loss: 1.1709, Validation Accuracy: 88.31%\n"
     ]
    },
    {
     "name": "stderr",
     "output_type": "stream",
     "text": [
      "Epochs:  86%|████████▌ | 43/50 [07:30<01:12, 10.36s/it]"
     ]
    },
    {
     "name": "stdout",
     "output_type": "stream",
     "text": [
      "Epoch [43/50]\n",
      "Train Loss: 1.7791, Train Accuracy: 91.86%\n",
      "Validation Loss: 1.5274, Validation Accuracy: 75.27%\n"
     ]
    },
    {
     "name": "stderr",
     "output_type": "stream",
     "text": [
      "Epochs:  88%|████████▊ | 44/50 [07:41<01:02, 10.34s/it]"
     ]
    },
    {
     "name": "stdout",
     "output_type": "stream",
     "text": [
      "Epoch [44/50]\n",
      "Train Loss: 2.7387, Train Accuracy: 80.18%\n",
      "Validation Loss: 1.4010, Validation Accuracy: 83.63%\n"
     ]
    },
    {
     "name": "stderr",
     "output_type": "stream",
     "text": [
      "Epochs:  90%|█████████ | 45/50 [07:51<00:51, 10.38s/it]"
     ]
    },
    {
     "name": "stdout",
     "output_type": "stream",
     "text": [
      "Epoch [45/50]\n",
      "Train Loss: 1.3535, Train Accuracy: 90.69%\n",
      "Validation Loss: 1.2300, Validation Accuracy: 88.21%\n"
     ]
    },
    {
     "name": "stderr",
     "output_type": "stream",
     "text": [
      "Epochs:  92%|█████████▏| 46/50 [08:02<00:41, 10.34s/it]"
     ]
    },
    {
     "name": "stdout",
     "output_type": "stream",
     "text": [
      "Epoch [46/50]\n",
      "Train Loss: 0.9714, Train Accuracy: 92.18%\n",
      "Validation Loss: 1.1618, Validation Accuracy: 85.70%\n"
     ]
    },
    {
     "name": "stderr",
     "output_type": "stream",
     "text": [
      "Epochs:  94%|█████████▍| 47/50 [08:12<00:30, 10.30s/it]"
     ]
    },
    {
     "name": "stdout",
     "output_type": "stream",
     "text": [
      "Epoch [47/50]\n",
      "Train Loss: 1.0302, Train Accuracy: 92.58%\n",
      "Validation Loss: 1.2542, Validation Accuracy: 82.93%\n"
     ]
    },
    {
     "name": "stderr",
     "output_type": "stream",
     "text": [
      "Epochs:  96%|█████████▌| 48/50 [08:22<00:20, 10.27s/it]"
     ]
    },
    {
     "name": "stdout",
     "output_type": "stream",
     "text": [
      "Epoch [48/50]\n",
      "Train Loss: 1.4692, Train Accuracy: 91.99%\n",
      "Validation Loss: 1.2136, Validation Accuracy: 84.47%\n"
     ]
    },
    {
     "name": "stderr",
     "output_type": "stream",
     "text": [
      "Epochs:  98%|█████████▊| 49/50 [08:32<00:10, 10.35s/it]"
     ]
    },
    {
     "name": "stdout",
     "output_type": "stream",
     "text": [
      "Epoch [49/50]\n",
      "Train Loss: 1.4505, Train Accuracy: 91.89%\n",
      "Validation Loss: 1.2145, Validation Accuracy: 82.25%\n"
     ]
    },
    {
     "name": "stderr",
     "output_type": "stream",
     "text": [
      "Epochs: 100%|██████████| 50/50 [08:43<00:00, 10.46s/it]"
     ]
    },
    {
     "name": "stdout",
     "output_type": "stream",
     "text": [
      "Epoch [50/50]\n",
      "Train Loss: 0.7623, Train Accuracy: 91.07%\n",
      "Validation Loss: 1.4442, Validation Accuracy: 89.70%\n"
     ]
    },
    {
     "name": "stderr",
     "output_type": "stream",
     "text": [
      "\n"
     ]
    }
   ],
   "source": [
    "# Training Loop\n",
    "num_epochs = 50\n",
    "train_loss, val_loss, train_accuracy, val_accuracy = [], [], [], []\n",
    "best_model = None\n",
    "best_accuracy = 0.0\n",
    "for epoch in tqdm(range(num_epochs), desc=\"Epochs\"):\n",
    "    loss, accuracy = train()\n",
    "    train_loss.append(loss.item())\n",
    "    train_accuracy.append(accuracy)\n",
    "    loss, accuracy = validate()\n",
    "    if accuracy > best_accuracy:\n",
    "        best_accuracy = accuracy\n",
    "        best_model = model.state_dict()\n",
    "    val_loss.append(loss.item())\n",
    "    val_accuracy.append(accuracy)\n",
    "    print(f\"Epoch [{epoch+1}/{num_epochs}]\\nTrain Loss: {train_loss[-1]:.4f}, Train Accuracy: {train_accuracy[-1]:.2f}%\\nValidation Loss: {val_loss[-1]:.4f}, Validation Accuracy: {val_accuracy[-1]:.2f}%\")"
   ]
  },
  {
   "cell_type": "code",
   "execution_count": 10,
   "id": "88f5ed42",
   "metadata": {},
   "outputs": [
    {
     "data": {
      "image/png": "[encoded data removed]",
      "text/plain": [
       "<Figure size 640x480 with 1 Axes>"
      ]
     },
     "metadata": {},
     "output_type": "display_data"
    }
   ],
   "source": [
    "# Loss Curve\n",
    "plt.figure()\n",
    "plt.plot(range(num_epochs), train_loss, label=\"Train Loss\")\n",
    "plt.plot(range(num_epochs), val_loss, label=\"Validation Loss\")\n",
    "plt.xlabel(\"Epochs\")\n",
    "plt.ylabel(\"Cross Entropy Loss\")\n",
    "plt.title(\"Loss Curves\")\n",
    "plt.grid(True)\n",
    "plt.legend()\n",
    "plt.show()"
   ]
  },
  {
   "cell_type": "code",
   "execution_count": 12,
   "id": "0e56009d",
   "metadata": {},
   "outputs": [
    {
     "data": {
      "image/png": "[encoded data removed]",
      "text/plain": [
       "<Figure size 640x480 with 1 Axes>"
      ]
     },
     "metadata": {},
     "output_type": "display_data"
    }
   ],
   "source": [
    "# Accuracy Curve\n",
    "plt.figure()\n",
    "plt.plot(range(num_epochs), train_accuracy, label=\"Train Loss\")\n",
    "plt.plot(range(num_epochs), val_accuracy, label=\"Validation Loss\")\n",
    "plt.xlabel(\"Epochs\")\n",
    "plt.ylabel(\"Accuracy\")\n",
    "plt.title(\"Accuracy Curves\")\n",
    "plt.grid(True)\n",
    "plt.legend()\n",
    "plt.show()"
   ]
  },
  {
   "cell_type": "code",
   "execution_count": 13,
   "id": "45ce8a2b",
   "metadata": {},
   "outputs": [],
   "source": [
    "# Saving trained model\n",
    "torch.save(best_model, \"best_resnet.pth\")"
   ]
  },
  {
   "cell_type": "markdown",
   "id": "bc71a5be",
   "metadata": {},
   "source": [
    "## Inference"
   ]
  },
  {
   "cell_type": "code",
   "execution_count": 15,
   "id": "31353aa7",
   "metadata": {},
   "outputs": [],
   "source": [
    "# Testing/Inference\n",
    "def test():\n",
    "    model.eval()\n",
    "    correct, total, mae = 0, 0, 0\n",
    "    with torch.no_grad():\n",
    "        loss = 0.0\n",
    "        for images, labels in test_dataloader:\n",
    "            images, labels = images.to(device), labels.to(device)\n",
    "            outputs = model(images)\n",
    "            _, predictions = torch.max(outputs, 1)\n",
    "            correct += (predictions == labels).sum().item()\n",
    "            total += labels.size(0)\n",
    "            mae += torch.abs(predictions.float() - labels.float()).sum().item()\n",
    "    acc = correct/total\n",
    "    mae /= total\n",
    "    return acc, mae\n",
    "\n",
    "acc, mae = test()"
   ]
  },
  {
   "cell_type": "code",
   "execution_count": 17,
   "id": "0d7ffb33",
   "metadata": {},
   "outputs": [
    {
     "name": "stdout",
     "output_type": "stream",
     "text": [
      "The accuracy over the test dataset is 89.69% and the average MAE is 0.16\n"
     ]
    }
   ],
   "source": [
    "print(f\"The accuracy over the test dataset is {100*acc:.2f}% and the average MAE is {mae:.2f}\")"
   ]
  }
 ],
 "metadata": {
  "kernelspec": {
   "display_name": "base",
   "language": "python",
   "name": "python3"
  },
  "language_info": {
   "codemirror_mode": {
    "name": "ipython",
    "version": 3
   },
   "file_extension": ".py",
   "mimetype": "text/x-python",
   "name": "python",
   "nbconvert_exporter": "python",
   "pygments_lexer": "ipython3",
   "version": "3.12.2"
  }
 },
 "nbformat": 4,
 "nbformat_minor": 5
}
